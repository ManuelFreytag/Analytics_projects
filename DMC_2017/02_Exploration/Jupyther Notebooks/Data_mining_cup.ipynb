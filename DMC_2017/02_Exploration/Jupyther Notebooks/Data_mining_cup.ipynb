{
 "cells": [
  {
   "cell_type": "markdown",
   "metadata": {},
   "source": [
    "# DMC - Exploration"
   ]
  },
  {
   "cell_type": "markdown",
   "metadata": {},
   "source": [
    "## Problem\n",
    "- Both continious and descrete data  \n",
    "\n",
    "**Two interpretations possible:**\n",
    "\n",
    "- Binary classification problem: Buy / Not buy (Multiplication with price)\n",
    "    - May be more exact than the other approach.        \n",
    "        \n",
    "- Regression problem: Estimate the revenue of a product based on regression\n",
    "    - When on averge identical error, may be favored as it should have reduced outlier.\n",
    "\n",
    "**Evaluation allowes for both and favors small deviations!**  \n",
    "Not important for preprocessing. However, both approaches should be tested!"
   ]
  },
  {
   "cell_type": "markdown",
   "metadata": {},
   "source": [
    "## General characteristics"
   ]
  },
  {
   "cell_type": "code",
   "execution_count": 1,
   "metadata": {
    "collapsed": false
   },
   "outputs": [
    {
     "data": {
      "text/plain": [
       "     lineID             day             pid            adFlag      \n",
       " Min.   :      1   Min.   : 1.00   Min.   :    1   Min.   :0.0000  \n",
       " 1st Qu.: 689002   1st Qu.:31.00   1st Qu.: 4313   1st Qu.:0.0000  \n",
       " Median :1378002   Median :50.00   Median :10077   Median :0.0000  \n",
       " Mean   :1378002   Mean   :49.92   Mean   :10448   Mean   :0.3178  \n",
       " 3rd Qu.:2067003   3rd Qu.:71.00   3rd Qu.:16144   3rd Qu.:1.0000  \n",
       " Max.   :2756003   Max.   :92.00   Max.   :22035   Max.   :1.0000  \n",
       "                                                                   \n",
       "  availability   competitorPrice      click            basket      \n",
       " Min.   :1.000   Min.   :  0.00   Min.   :0.0000   Min.   :0.0000  \n",
       " 1st Qu.:1.000   1st Qu.:  5.48   1st Qu.:0.0000   1st Qu.:0.0000  \n",
       " Median :1.000   Median :  8.99   Median :1.0000   Median :0.0000  \n",
       " Mean   :1.111   Mean   : 12.77   Mean   :0.5743   Mean   :0.1698  \n",
       " 3rd Qu.:1.000   3rd Qu.: 15.06   3rd Qu.:1.0000   3rd Qu.:0.0000  \n",
       " Max.   :4.000   Max.   :264.59   Max.   :1.0000   Max.   :1.0000  \n",
       "                 NA's   :100687                                    \n",
       "     order            price           revenue       \n",
       " Min.   :0.0000   Min.   :  0.02   Min.   :  0.000  \n",
       " 1st Qu.:0.0000   1st Qu.:  6.00   1st Qu.:  0.000  \n",
       " Median :0.0000   Median :  9.85   Median :  0.000  \n",
       " Mean   :0.2558   Mean   : 13.85   Mean   :  3.751  \n",
       " 3rd Qu.:1.0000   3rd Qu.: 16.45   3rd Qu.:  1.930  \n",
       " Max.   :1.0000   Max.   :378.84   Max.   :887.700  \n",
       "                                                    "
      ]
     },
     "metadata": {},
     "output_type": "display_data"
    }
   ],
   "source": [
    "options(warn = -1)\n",
    "setwd(\"C:/Users/manuf/OneDrive/Project Datascience/R/DMC_2017_task\")\n",
    "train = read.csv(\"train.csv\", sep = \"|\", header = TRUE, dec = \".\")\n",
    "class = read.csv(\"class.csv\", sep = \"|\", header = TRUE, dec = \".\")\n",
    "\n",
    "factors = c(\"lineID\",\"pid\",\"adFlag\",\"availability\",\"click\",\"\")\n",
    "\n",
    "summary(train)"
   ]
  },
  {
   "cell_type": "code",
   "execution_count": 2,
   "metadata": {
    "collapsed": false
   },
   "outputs": [
    {
     "data": {
      "text/plain": [
       "     lineID             day             pid            adFlag      \n",
       " Min.   :      1   Min.   : 93.0   Min.   :    1   Min.   :0.0000  \n",
       " 1st Qu.: 302693   1st Qu.:101.0   1st Qu.: 4145   1st Qu.:0.0000  \n",
       " Median : 605384   Median :108.0   Median : 9647   Median :0.0000  \n",
       " Mean   : 605384   Mean   :108.1   Mean   :10264   Mean   :0.3339  \n",
       " 3rd Qu.: 908076   3rd Qu.:116.0   3rd Qu.:15928   3rd Qu.:1.0000  \n",
       " Max.   :1210767   Max.   :123.0   Max.   :22035   Max.   :1.0000  \n",
       "                                                                   \n",
       "  availability   competitorPrice      price       \n",
       " Min.   :1.000   Min.   :  0.00   Min.   :  0.01  \n",
       " 1st Qu.:1.000   1st Qu.:  5.37   1st Qu.:  5.84  \n",
       " Median :1.000   Median :  8.57   Median :  9.79  \n",
       " Mean   :1.107   Mean   : 12.20   Mean   : 13.47  \n",
       " 3rd Qu.:1.000   3rd Qu.: 14.29   3rd Qu.: 16.45  \n",
       " Max.   :4.000   Max.   :219.37   Max.   :384.71  \n",
       "                 NA's   :38005                    "
      ]
     },
     "metadata": {},
     "output_type": "display_data"
    }
   ],
   "source": [
    "summary(class)"
   ]
  },
  {
   "cell_type": "markdown",
   "metadata": {},
   "source": [
    "### Findings:\n",
    "**Unbalanced data**  \n",
    "order mean of 0.2558 -> Unbalanced 3:1 (75/25)\n",
    "\n",
    "**Increase in sales over time**\n",
    "Median of day is 50 instead of 45, size of class is more than size(train)/3\n",
    "\n",
    "**structual differences in train & class**  \n",
    "No structual differences visible. Seemingly consistent.\n",
    "\n",
    "**distribution functions**\n",
    " \n",
    "**Right Skewed (median > mean)**  \n",
    "1. Price\n",
    "    - Large amount of cheap products  \n",
    "+ adFlag\n",
    "    - Most of the customers reach the site without advertising  \n",
    "+ availabiltiy\n",
    "    - The vast majority of products are classified as available 1 at the time of interest.  \n",
    "\n",
    "**Missing value**  \n",
    "We generally see that only the attribute \"competitorPrice\" has missing values\n",
    "Lets see if we can assume a missing at random"
   ]
  },
  {
   "cell_type": "markdown",
   "metadata": {},
   "source": [
    "## Change in pricing per product\n",
    "\n",
    "TODO\n"
   ]
  },
  {
   "cell_type": "markdown",
   "metadata": {},
   "source": [
    "## Missing Values\n",
    "\n",
    "Analysing the nature of missing values in \"competitor price\".   \n",
    "### MISSING COMPLETELY AT RANDOM? "
   ]
  },
  {
   "cell_type": "code",
   "execution_count": 9,
   "metadata": {
    "collapsed": false
   },
   "outputs": [
    {
     "data": {
      "image/png": "[encoded data removed]",
      "text/plain": [
       "Plot with title \"Histogram of missing$revenue\""
      ]
     },
     "metadata": {},
     "output_type": "display_data"
    },
    {
     "data": {
      "image/png": "[encoded data removed]",
      "text/plain": [
       "Plot with title \"Histogram of not_missing$revenue\""
      ]
     },
     "metadata": {},
     "output_type": "display_data"
    }
   ],
   "source": [
    "#Missing values in Job, EducaTION; Outcome\n",
    "missing = train[is.na(train[\"competitorPrice\"]),]\n",
    "not_missing = train[!is.na(train[\"competitorPrice\"]),]\n",
    "\n",
    "hist(missing$revenue, breaks = 1000, freq = FALSE, xlim = c(0,40))\n",
    "hist(not_missing$revenue, breaks = 1000, freq = FALSE, xlim = c(0,40))"
   ]
  },
  {
   "cell_type": "markdown",
   "metadata": {},
   "source": [
    "**Difficult to spot, therefore lets try to test**\n",
    "\n",
    "**H0**: Average revenue of both subsets is equal  \n",
    "**H1**: Average revenue of btoh subsets differ"
   ]
  },
  {
   "cell_type": "code",
   "execution_count": 4,
   "metadata": {
    "collapsed": false
   },
   "outputs": [
    {
     "data": {
      "text/plain": [
       "\n",
       "\tWelch Two Sample t-test\n",
       "\n",
       "data:  missing$revenue and not_missing$revenue\n",
       "t = -26.755, df = 108410, p-value < 2.2e-16\n",
       "alternative hypothesis: true difference in means is not equal to 0\n",
       "95 percent confidence interval:\n",
       " -0.9465741 -0.8173549\n",
       "sample estimates:\n",
       "mean of x mean of y \n",
       " 2.901236  3.783201 \n"
      ]
     },
     "metadata": {},
     "output_type": "display_data"
    }
   ],
   "source": [
    "#testing for statistical significance\n",
    "t.test(missing$revenue, not_missing$revenue)\n",
    "\n",
    "#remove from memory"
   ]
  },
  {
   "cell_type": "markdown",
   "metadata": {},
   "source": [
    "**->** NOT MCAR\n",
    "\n",
    "However, they seem to have less significance to the overall revenue.\n",
    "\n",
    "### MAR OR MNAR\n",
    "**time specific?**"
   ]
  },
  {
   "cell_type": "code",
   "execution_count": 15,
   "metadata": {
    "collapsed": false
   },
   "outputs": [
    {
     "data": {
      "text/plain": [
       "   Min. 1st Qu.  Median    Mean 3rd Qu.    Max. \n",
       "   1.00   31.00   50.00   49.97   71.00   92.00 "
      ]
     },
     "metadata": {},
     "output_type": "display_data"
    },
    {
     "data": {
      "text/plain": [
       "   Min. 1st Qu.  Median    Mean 3rd Qu.    Max. \n",
       "   1.00   31.00   50.00   49.92   71.00   92.00 "
      ]
     },
     "metadata": {},
     "output_type": "display_data"
    }
   ],
   "source": [
    "summary(missing$day)\n",
    "summary(not_missing$day)"
   ]
  },
  {
   "cell_type": "markdown",
   "metadata": {},
   "source": [
    "-> Seemingly time unspecific\n",
    "\n",
    "**unit unspecific?**"
   ]
  },
  {
   "cell_type": "code",
   "execution_count": 13,
   "metadata": {
    "collapsed": false,
    "scrolled": true
   },
   "outputs": [
    {
     "data": {
      "text/html": [
       "<table>\n",
       "<thead><tr><th></th><th scope=col>NR_ITEMS</th></tr></thead>\n",
       "<tbody>\n",
       "\t<tr><th scope=row>MISSING TOTAL</th><td>2866</td></tr>\n",
       "\t<tr><th scope=row>MISSING BOTH</th><td> 722</td></tr>\n",
       "\t<tr><th scope=row>MISSING ONLY</th><td>2144</td></tr>\n",
       "</tbody>\n",
       "</table>\n"
      ],
      "text/latex": [
       "\\begin{tabular}{r|l}\n",
       "  & NR\\_ITEMS\\\\\n",
       "\\hline\n",
       "\tMISSING TOTAL & 2866\\\\\n",
       "\tMISSING BOTH &  722\\\\\n",
       "\tMISSING ONLY & 2144\\\\\n",
       "\\end{tabular}\n"
      ],
      "text/markdown": [
       "\n",
       "| <!--/--> | NR_ITEMS | \n",
       "|---|---|---|\n",
       "| MISSING TOTAL | 2866 | \n",
       "| MISSING BOTH |  722 | \n",
       "| MISSING ONLY | 2144 | \n",
       "\n",
       "\n"
      ],
      "text/plain": [
       "              NR_ITEMS\n",
       "MISSING TOTAL 2866    \n",
       "MISSING BOTH   722    \n",
       "MISSING ONLY  2144    "
      ]
     },
     "metadata": {},
     "output_type": "display_data"
    }
   ],
   "source": [
    "library(sqldf)\n",
    "items_missing = \"select distinct pid from missing\"\n",
    "items_nmissing = \"select distinct pid from not_missing\"\n",
    "\n",
    "#get items that occur in missing\n",
    "missing_total =  nrow(sqldf(\"select distinct pid from missing\"))\n",
    "\n",
    "#Get the items that occur both in missing and not missing\n",
    "missing_both = nrow(sqldf(paste(\"select t1.pid from (\", items_missing, \") as t1 JOIN (\", items_nmissing,\") as t2 on t1.pid = t2.pid\")))\n",
    "\n",
    "missing_only = missing_total - missing_both\n",
    "\n",
    "data.frame(NR_ITEMS = c(missing_total, missing_both, missing_only), row.names = c(\"MISSING TOTAL\", \"MISSING BOTH\", \"MISSING ONLY\"))"
   ]
  },
  {
   "cell_type": "markdown",
   "metadata": {},
   "source": [
    "-> Seemingly mostly unit specific ratio(4:1)  \n",
    "-> **MISSING AT RANDOM**\n"
   ]
  },
  {
   "cell_type": "code",
   "execution_count": null,
   "metadata": {
    "collapsed": true
   },
   "outputs": [],
   "source": [
    "#Clean-up\n",
    "rm(missing, not_missing)"
   ]
  },
  {
   "cell_type": "markdown",
   "metadata": {},
   "source": [
    "### ABC analysis"
   ]
  },
  {
   "cell_type": "code",
   "execution_count": 18,
   "metadata": {
    "collapsed": false,
    "scrolled": false
   },
   "outputs": [
    {
     "data": {
      "image/png": "[encoded data removed]",
      "text/plain": [
       "plot without title"
      ]
     },
     "metadata": {},
     "output_type": "display_data"
    }
   ],
   "source": [
    "#General sql statement for data generation\n",
    "abc = sqldf(\"select *\n",
    "      from (select pid, count(pid), sum(revenue) as sumrevenue, avg(revenue) from train group by pid) as t1\n",
    "      order by sumrevenue desc\")\n",
    "\n",
    "#ABC analysis revenue\n",
    "#generate cummulated sum\n",
    "cs_rev = cumsum(abc$sumrevenue)\n",
    "\n",
    "#normalize the y axis\n",
    "norm_cs_rev = cs_rev/sum(abc$sumrevenue)\n",
    "\n",
    "#Plot the\n",
    "plot(c(1:nrow(abc))/nrow(abc), norm_cs_rev, xlim = c(0, 1), ylim = c(0, 1), xlab = \"% of pIDs\", ylab = \"% of overall revenue\", asp = 1)"
   ]
  },
  {
   "cell_type": "code",
   "execution_count": null,
   "metadata": {
    "collapsed": true
   },
   "outputs": [],
   "source": [
    "#Cleaning up our code\n",
    "rm(cs_rev, norm_cs_rev)\n",
    "options(warn = 0)"
   ]
  },
  {
   "cell_type": "markdown",
   "metadata": {},
   "source": [
    "# DMC - Preprocessing"
   ]
  },
  {
   "cell_type": "markdown",
   "metadata": {},
   "source": [
    "\n",
    "\n",
    "## Feature engineering \n",
    "\n",
    "** Most important aspects for a buying decision**\n",
    "### Price of the product\n",
    "\n",
    "**We have:**\n",
    "- Offered price\n",
    "- Competitor price\n",
    "\n",
    "**Potentially relevant:**\n",
    "- % price difference to competitor\n",
    "- total price difference to competitor\n",
    "\n",
    "### Price expectation\n",
    "\n",
    "**We have:**\n",
    "/\n",
    "\n",
    "**Potentially relevant:**\n",
    "- % price difference to historic low\n",
    "- total price difference to historic low\n",
    "- trend (upwards, downwards, neutral)\n",
    "\n",
    "### Demand\n",
    "\n",
    "**We have:**\n",
    "/\n",
    "\n",
    "**potentially relevant:**\n",
    "- % availability over time\n",
    "- Overall demand for this product in this week / month\n",
    "- Demand trend (upwards, downwards, neutral)\n",
    "- Weekdays\n",
    "- Month\n"
   ]
  },
  {
   "cell_type": "markdown",
   "metadata": {},
   "source": [
    "### Missing values\n",
    "\n",
    "**Possible actions:**  \n",
    "Ignoring Instances: Not possible, as the class file also contains missing values\n",
    "Ignoring Attribute: Bad\n",
    "Stratified imputation / regression imputation. Bad, as most missing values are item dependent.\n",
    "\n",
    "**Possiblilities:**  \n",
    "Binning and dummy coding\n",
    "General imputation\n",
    "Choosing a classification algorithm that can handle missing data\n",
    "\n",
    "no golden path?"
   ]
  },
  {
   "cell_type": "code",
   "execution_count": null,
   "metadata": {
    "collapsed": true
   },
   "outputs": [],
   "source": []
  },
  {
   "cell_type": "markdown",
   "metadata": {},
   "source": [
    "### Fixed Effects analysis\n",
    "\n",
    "account for time fixed effects (per day / week / month)\n",
    "Panel data\n",
    "Trend component (for each product)\n",
    "Saisonal component\n",
    "Cyclic component\n"
   ]
  },
  {
   "cell_type": "markdown",
   "metadata": {},
   "source": [
    "### Sampling\n",
    "Unbalanced dataset -> equal out number of observations in each label?\n",
    "Increase in sales -> equal out number of observations in each periode?"
   ]
  }
 ],
 "metadata": {
  "celltoolbar": "Raw Cell Format",
  "kernelspec": {
   "display_name": "R",
   "language": "R",
   "name": "ir"
  },
  "language_info": {
   "codemirror_mode": "r",
   "file_extension": ".r",
   "mimetype": "text/x-r-source",
   "name": "R",
   "pygments_lexer": "r",
   "version": "3.3.2"
  }
 },
 "nbformat": 4,
 "nbformat_minor": 2
}
