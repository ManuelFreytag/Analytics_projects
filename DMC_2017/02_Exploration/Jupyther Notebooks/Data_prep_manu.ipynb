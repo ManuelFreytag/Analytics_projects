{
 "cells": [
  {
   "cell_type": "markdown",
   "metadata": {},
   "source": [
    "# Data preparation (Manuel F.)"
   ]
  },
  {
   "cell_type": "code",
   "execution_count": 1,
   "metadata": {
    "collapsed": false
   },
   "outputs": [
    {
     "name": "stderr",
     "output_type": "stream",
     "text": [
      "Warning message:\n",
      "\"package 'sqldf' was built under R version 3.3.3\"Loading required package: gsubfn\n",
      "Warning message:\n",
      "\"package 'gsubfn' was built under R version 3.3.3\"Loading required package: proto\n",
      "Warning message:\n",
      "\"package 'proto' was built under R version 3.3.3\"Could not load tcltk.  Will use slower R code instead.\n",
      "Loading required package: RSQLite\n",
      "Warning message:\n",
      "\"package 'RSQLite' was built under R version 3.3.3\""
     ]
    }
   ],
   "source": [
    "library(sqldf)\n",
    "options(scipen=999)\n",
    "\n",
    "#The working directory should be changed of course\n",
    "setwd(\"C:/Users/Manuel/OneDrive/Project_Datascience/R/DMC_2017_task\")\n",
    "train = read.csv(\"01_Data/train.csv\", sep = \"|\", header = TRUE, dec = \".\")\n",
    "class = read.csv(\"01_Data/class.csv\", sep = \"|\", header = TRUE, dec = \".\")\n"
   ]
  },
  {
   "cell_type": "markdown",
   "metadata": {},
   "source": [
    "## Trend analysis\n",
    "\n",
    "https://anomaly.io/seasonal-trend-decomposition-in-r/\n",
    "https://anomaly.io/detect-seasonality-using-fourier-transform-r/\n",
    "\n",
    "### First approach\n",
    "\n",
    "**For each product:**\n",
    "use simple linear regression with y = ß0 + ß1*time\n",
    "\n",
    "ß1: slope (trend)\n",
    "ß0: fixed effect (e.g. base cost / base popularity)\n",
    "\n",
    "-> norm_trend = ß1/ß0\n",
    "\n",
    "### Second approach\n",
    "\n",
    "Generally interpretable as time series data.\n",
    "Time series models compose of three gen\n",
    "\n",
    "**seasonal:** Describing the seasonal fluctuation of values. Potentially multiple seasonalities.\n",
    "**trend:** Describing the general trend\n",
    "**random:** Not able to model random fluctuation\n",
    "\n",
    "can be used as either additive model:\n",
    "additive: Y = S+T+R\n",
    "multiplicative: Y = S*T*R\n",
    "\n",
    "#### Additive model or multiplicative model?\n",
    "\n",
    "Time frame of three months is too short for the need to think of general inflation.  \n",
    "-> Additive model for price\n",
    "\n",
    "However: A sales increase over the observation periode seems to be occurring.  \n",
    "-> Maybe additive model for counts? | Effect should not be \n",
    "\n",
    "For the sake of implementation simplicity, both used as additive model\n",
    "\n",
    "#### What episodic element?\n",
    "Either week, month, fourier transformation\n",
    "\n",
    "-> For the sake of general reasoning and minimizing computational efford we use 7 days (1 week) as cyclic component.\n",
    "\n",
    "\n",
    "Normalization of trend attributes by the value average of the label."
   ]
  },
  {
   "cell_type": "code",
   "execution_count": 2,
   "metadata": {
    "collapsed": false
   },
   "outputs": [
    {
     "name": "stderr",
     "output_type": "stream",
     "text": [
      "Warning message:\n",
      "\"Quoted identifiers should have class SQL, use DBI::SQL() if the caller performs the quoting.\""
     ]
    }
   ],
   "source": [
    "#1) Filter price, pid, day\n",
    "trend = sqldf(\"select lineID, pid, price, day from train\")\n",
    "\n",
    "#2) generate list of all pids, ordered by occurance\n",
    "ord_pids = sqldf(\"select pid from (select count(pid)as cpid, pid \n",
    "                 from trend group by pid) as t1 order by t1.cpid desc\")\n",
    "\n",
    "\n",
    "#Definition of a short function for trend decomposition into a data.frame\n",
    "decomposition = function(x, y, pid, freq = 7){\n",
    "  ts_tmp = ts(y, frequency = freq)\n",
    "  decompose_price = stl(ts_tmp, \"periodic\")\n",
    "  \n",
    "  #Cyclic component\n",
    "  app = data.frame(day = x)\n",
    "  app[\"pid\"] = pid\n",
    "  #Normalize to size of price and counts, in order to enable distance equal numbers.\n",
    "  app[\"cyclic\"] = as.numeric(decompose_price$time.series[,1]/mean(y))\n",
    "  \n",
    "  #initializing it with trend 0\n",
    "  trend_series = c(0)\n",
    "  \n",
    "  for(j in c(2:max_day)){\n",
    "    trend_series = c(trend_series, (decompose_price$time.series[j,2]-decompose_price$time.series[j-1,2]))\n",
    "  }\n",
    "  \n",
    "  #Normalize to size of price and counts, in order to enable distance equal numbers.\n",
    "  app[\"trend\"] = trend_series/mean(y)\n",
    "  \n",
    "  return(app)\n",
    "}\n",
    "\n",
    "#OPERATIVE PART OF THE TREND ANALYISIS\n",
    "#Defining important vectors and data.frames to be filled\n",
    "trend_price_vars = c()\n",
    "trend_price_perc = c()\n",
    "trend_count_vars = c()\n",
    "trend_count_perc = c()\n",
    "\n",
    "max_day = max(train$day)\n",
    "day_df = sqldf(\"select day from trend group by day\")\n",
    "\n",
    "decomposition_price_df = data.frame(day = integer(), pid = character(), cyclic = double(), trend = double())\n",
    "decomposition_counts_df = data.frame(day = integer(), pid = character(), cyclic = double(), trend = double())\n",
    "\n",
    "#Starting the training process\n",
    "for(i in ord_pids$pid){\n",
    "  #Select next pid\n",
    "  tmp = trend[trend$pid == i,]\n",
    "  \n",
    "  #3) Average the price values of each product sold on each day       \n",
    "  trend_tmp = sqldf(\"select day_df.day, t1.price, t1.counts \n",
    "                    from day_df left join (select day, avg(price) as price, count(price) as counts from tmp group by day) as t1 on t1.day = day_df.day\")\n",
    "\n",
    "  #Impute missing counts with 0\n",
    "  trend_tmp$counts[is.na(trend_tmp$counts)] = 0\n",
    "\n",
    "  #GENERAL TREND ANALYSIS\n",
    "  #Calculate the general trend variable for price and counts\n",
    "  fm = lm(trend_tmp$price ~ trend_tmp$day)\n",
    "  trend_price_vars = c(trend_price_vars, fm$coefficients[2])\n",
    "  trend_price_perc = c(trend_price_perc, fm$coefficients[2]/fm$coefficients[1])\n",
    "  \n",
    "  fm2 = lm(trend_tmp$counts ~ trend_tmp$day)\n",
    "  trend_count_vars = c(trend_count_vars, fm$coefficients[2])\n",
    "  trend_count_perc = c(trend_count_perc, fm$coefficients[2]/fm$coefficients[1])\n",
    "  \n",
    "  \n",
    "  #TREND DECOMPOSITION\n",
    "  #Trend decomposition price:\n",
    "  #Check if it is complete (has entry for each day), else skip it\n",
    "  if(sum(is.na(trend_tmp$price)) == 0){\n",
    "    \n",
    "    app = decomposition(trend_tmp$day, trend_tmp$price, i)\n",
    "    \n",
    "    #Append to final df\n",
    "    decomposition_price_df = rbind(decomposition_price_df, app)\n",
    "  }\n",
    "  \n",
    "  #Trend decomposition counts\n",
    "  app = decomposition(trend_tmp$day, trend_tmp$counts, i)\n",
    "  decomposition_counts_df = rbind(decomposition_counts_df, app)\n",
    "  \n",
    "}\n",
    "\n",
    "#rm(trend, tmp, trend_tmp)\n",
    "\n",
    "#JOINING RESULTS INTO A DF\n",
    "final_trend = sqldf(\"select trend.lineID, decomposition_counts_df.pid, decomposition_counts_df.day, decomposition_counts_df.cyclic as decomp_cyclic_counts_norm, decomposition_counts_df.trend as decomp_trend_counts_norm \n",
    "              from trend join decomposition_counts_df on (decomposition_counts_df.pid = trend.pid and decomposition_counts_df.day = trend.day)\")\n",
    "\n",
    "final_trend = sqldf(\"select final_trend.*, decomposition_price_df.cyclic as decomp_cyclic_price_norm, decomposition_price_df.trend as decomp_trend_price_norm\n",
    "              from final_trend left join decomposition_price_df on (final_trend.pid = decomposition_price_df.pid and final_trend.day = decomposition_price_df.day)\")\n",
    "\n",
    "\n",
    "\n",
    "#Add the columns to the overall df\n",
    "\n",
    "linear_trend_names = c(\"trend_price\", \"trend_price_perc\", \"trend_count\", \"trend_count_perc\")\n",
    "linear_trend_sum = list(trend_price_vars, trend_price_perc, trend_count_vars, trend_count_perc)\n",
    "\n",
    "for(i in c(1:length(linear_trend_names))){\n",
    "  ord_pids[linear_trend_names[i]] = linear_trend_sum[i]\n",
    "}\n",
    "\n",
    "final_trend = merge(final_trend, ord_pids, by = \"pid\")\n",
    "\n",
    "#-> 511 Missing values, because the products only ocure once, therefore impute with 0.\n",
    "#Value imputation with 0\n",
    "final_trend[is.na(final_trend)] = 0\n",
    "final_trend = subset(final_trend, select = -c(pid, day))"
   ]
  },
  {
   "cell_type": "markdown",
   "metadata": {},
   "source": [
    "## ABC-analysis\n",
    "\n",
    "\n",
    "https://de.wikipedia.org/wiki/ABC-Analyse\n",
    "\n",
    "**Idea:**\n",
    "Classifying products as essential for business success.\n",
    "\n",
    "generally, 80/20 rule:\n",
    "20% of the products produce 80% of the revenue.\n",
    "\n",
    "However, there are multiple classification approaches, ranging from ~70-80% of the revenue.\n",
    "\n",
    "We have used both number of sales and revenue of a product\n",
    "Changes in classification are significant, so that it varants the approach."
   ]
  },
  {
   "cell_type": "code",
   "execution_count": 3,
   "metadata": {
    "collapsed": false
   },
   "outputs": [
    {
     "data": {
      "text/plain": [
       "\n",
       "    A     B     C \n",
       " 2751  5220 13957 "
      ]
     },
     "metadata": {},
     "output_type": "display_data"
    },
    {
     "data": {
      "text/plain": [
       "\n",
       "    A     B     C \n",
       " 4597  6661 10670 "
      ]
     },
     "metadata": {},
     "output_type": "display_data"
    },
    {
     "data": {
      "image/png": "[encoded data removed]",
      "text/plain": [
       "plot without title"
      ]
     },
     "metadata": {},
     "output_type": "display_data"
    },
    {
     "data": {
      "image/png": "[encoded data removed]",
      "text/plain": [
       "plot without title"
      ]
     },
     "metadata": {},
     "output_type": "display_data"
    }
   ],
   "source": [
    "#General sql statement for data generation\n",
    "abc = sqldf(\"select *\n",
    "            from (select pid, count(pid) as demand, sum(revenue) as sumrevenue from train group by pid) as t1\n",
    "            order by sumrevenue desc\")\n",
    "\n",
    "#ABC analysis revenue\n",
    "#generate cummulated sum\n",
    "cs_rev = cumsum(abc$sumrevenue)\n",
    "\n",
    "abc[\"cs_rev\"] = cs_rev\n",
    "abc[\"ABC_rev\"] = \"A\"\n",
    "abc$ABC_rev[abc$cs_rev > sum(abc$sumrevenue)*0.80] = \"B\"\n",
    "abc$ABC_rev[abc$cs_rev > sum(abc$sumrevenue)*0.95] = \"C\"\n",
    "\n",
    "table(abc$ABC_rev)\n",
    "#Frequency occurance checks out\n",
    "\n",
    "\n",
    "#ABC analysis number of sales\n",
    "#Order by counts first\n",
    "abc = abc[order(-abc$demand),]\n",
    "\n",
    "#generate cummulated sum\n",
    "cs_dem = cumsum(abc$demand)\n",
    "\n",
    "abc[\"cs_dem\"] = cs_dem\n",
    "abc[\"ABC_dem\"] = \"A\"\n",
    "abc$ABC_dem[abc$cs_dem > sum(abc$demand)*0.80] = \"B\"\n",
    "abc$ABC_dem[abc$cs_dem > sum(abc$demand)*0.95] = \"C\"\n",
    "\n",
    "table(abc$ABC_dem)\n",
    "#Demand is not as stereotypical as revenue, but checks out\n",
    "\n",
    "#PLOTTING FOR PROOF\n",
    "#normalize the y axis\n",
    "norm_cs_rev = cs_rev/sum(abc$sumrevenue)\n",
    "\n",
    "#Plot the\n",
    "plot(c(1:nrow(abc))/nrow(abc), norm_cs_rev, xlim = c(0, 1), ylim = c(0, 1), xlab = \"% of pIDs\", ylab = \"% of overall revenue\")\n",
    "\n",
    "norm_cs_dem = cs_dem/sum(abc$demand)\n",
    "#Plot the ABC Analysis of demand\n",
    "plot(c(1:nrow(abc))/nrow(abc), norm_cs_dem, xlim = c(0, 1), ylim = c(0, 1), xlab = \"% of pIDs\", ylab = \"% of overall demand\")\n",
    "\n",
    "#Match the classification to the train and class data\n",
    "final_ABC = sqldf(\"select train.lineID, abc.ABC_rev, abc.ABC_dem from train left join abc on train.pid = abc.pid\")"
   ]
  },
  {
   "cell_type": "markdown",
   "metadata": {},
   "source": [
    "\n",
    "ABC analysis seems to make sense. However, the allocation of those values is inheritently unbalanced, caused by the selection criterion.\n",
    "\n",
    "\n",
    "## Additional feature engeneering"
   ]
  },
  {
   "cell_type": "code",
   "execution_count": 4,
   "metadata": {
    "collapsed": true
   },
   "outputs": [],
   "source": [
    "#Order may be missinterpreted\n",
    "names(train)[names(train) == 'order'] = 'ordered'\n",
    "\n",
    "additonal_features = sqldf(\"select pid, avg(price) as mean_price, avg(click) as mean_click, avg(basket) as mean_basket, avg(ordered) as mean_order \n",
    "      from train group by pid\")\n"
   ]
  },
  {
   "cell_type": "markdown",
   "metadata": {},
   "source": [
    "## Fixed effects analysis\n",
    "\n",
    "**Assumption:** Static inherint bias in values based on endogeneitiy.\n",
    "\n",
    "Fixed effects analysis can be destinguished in\n",
    "1) Unit fixed effects: Constant (endogenous) values bias of units.\n",
    "2) Time fixed effects: Constant (endogenous) effects over time on all observation units.\n",
    "\n",
    "-> Endogeneity & resulting autocorrelation leads to bias in certain models.\n",
    "\n",
    "**However:** Main improvement is in the correct interpretability of the model and not necessary classification quality!\n",
    "\n",
    "Can be tested with a **Hausman test**:\n",
    "\n",
    "**H_0:** \tNo correlation between the individual effects and the indepentent attribute. (independence of residuals & dependent variable)  \n",
    "**H_1:**    Correlation of indiviudual effects and at least one independent attribute\n",
    "\n",
    "**H_0 rejected**     -> Fixed effects model  \n",
    "**H_0 not rejected** -> Random effects model\n",
    "\n",
    "\n",
    "Two most common approaches (Multiple approaches):\n",
    "- Within-transformation: Subtract the attribute mean of the product of each product value. -> Constant effects will be removed. \n",
    "- Dummy coding approach: Handling Nominal values. Constant values will be values with the constant effect in regression.\n",
    "\n",
    "**Conclusion:**\n",
    "Within transformation may not be use-full / necessary in our case!\n",
    "Approaches can be used to destinguish the information source if necessary.\n",
    "\n",
    "**Example:**\n",
    "price has information about price fluctuation, potentiall production costs, demand etc.\n",
    "-> within transformation: only price fluctuation left."
   ]
  },
  {
   "cell_type": "code",
   "execution_count": 5,
   "metadata": {
    "collapsed": false
   },
   "outputs": [
    {
     "data": {
      "text/plain": [
       "     lineID        decomp_cyclic_counts_norm decomp_trend_counts_norm\n",
       " Min.   :      1   Min.   :-0.94694          Min.   :-5.956881       \n",
       " 1st Qu.: 689002   1st Qu.:-0.09014          1st Qu.:-0.036983       \n",
       " Median :1378002   Median : 0.07007          Median : 0.004361       \n",
       " Mean   :1378002   Mean   : 0.08027          Mean   : 0.012958       \n",
       " 3rd Qu.:2067003   3rd Qu.: 0.20065          3rd Qu.: 0.056827       \n",
       " Max.   :2756003   Max.   : 6.26874          Max.   : 9.516955       \n",
       " decomp_cyclic_price_norm decomp_trend_price_norm  trend_price       \n",
       " Min.   :-0.06812314      Min.   :-0.07511006     Min.   :-6.050000  \n",
       " 1st Qu.: 0.00000000      1st Qu.: 0.00000000     1st Qu.: 0.000000  \n",
       " Median : 0.00000000      Median : 0.00000000     Median : 0.000392  \n",
       " Mean   :-0.00001678      Mean   :-0.00002157     Mean   : 0.003043  \n",
       " 3rd Qu.: 0.00000000      3rd Qu.: 0.00000000     3rd Qu.: 0.003855  \n",
       " Max.   : 0.08473138      Max.   : 0.09311116     Max.   : 1.530000  \n",
       " trend_price_perc      trend_count        trend_count_perc    \n",
       " Min.   :-1.0790880   Min.   :-6.050000   Min.   :-1.0790880  \n",
       " 1st Qu.: 0.0000000   1st Qu.: 0.000000   1st Qu.: 0.0000000  \n",
       " Median : 0.0000460   Median : 0.000392   Median : 0.0000460  \n",
       " Mean   : 0.0002359   Mean   : 0.003043   Mean   : 0.0002359  \n",
       " 3rd Qu.: 0.0003746   3rd Qu.: 0.003855   3rd Qu.: 0.0003746  \n",
       " Max.   : 2.4666667   Max.   : 1.530000   Max.   : 2.4666667  \n",
       "   ABC_rev            ABC_dem          price_fluctuation     mean_click    \n",
       " Length:2756003     Length:2756003     Min.   :-57.46583   Min.   :0.0000  \n",
       " Class :character   Class :character   1st Qu.:  0.00000   1st Qu.:0.4248  \n",
       " Mode  :character   Mode  :character   Median :  0.00155   Median :0.5805  \n",
       "                                       Mean   :  0.00000   Mean   :0.5743  \n",
       "                                       3rd Qu.:  0.11289   3rd Qu.:0.7453  \n",
       "                                       Max.   : 42.05000   Max.   :1.0000  \n",
       "  mean_basket       mean_order    \n",
       " Min.   :0.0000   Min.   :0.0000  \n",
       " 1st Qu.:0.1000   1st Qu.:0.1356  \n",
       " Median :0.1538   Median :0.2518  \n",
       " Mean   :0.1698   Mean   :0.2558  \n",
       " 3rd Qu.:0.2047   3rd Qu.:0.3636  \n",
       " Max.   :1.0000   Max.   :1.0000  "
      ]
     },
     "metadata": {},
     "output_type": "display_data"
    }
   ],
   "source": [
    "final = sqldf(\"select train.lineID, (train.price -  af.mean_price) as price_fluctuation, af.mean_click, af.mean_basket, af.mean_order \n",
    "      from train join additonal_features  as af on train.pid = af.pid\")\n",
    "\n",
    "df_list <- list(final_trend, final_ABC, final)\n",
    "final = Reduce(function(x, y) merge(x, y, by = \"lineID\", all=TRUE), df_list, accumulate=FALSE)\n",
    "\n",
    "summary(final)\n",
    "    \n",
    "write.csv(final, \"final.csv\")"
   ]
  },
  {
   "cell_type": "code",
   "execution_count": null,
   "metadata": {
    "collapsed": true
   },
   "outputs": [],
   "source": [
    "#Clear workspace\n",
    "rm(list=ls())"
   ]
  }
 ],
 "metadata": {
  "kernelspec": {
   "display_name": "R",
   "language": "R",
   "name": "ir"
  },
  "language_info": {
   "codemirror_mode": "r",
   "file_extension": ".r",
   "mimetype": "text/x-r-source",
   "name": "R",
   "pygments_lexer": "r",
   "version": "3.3.2"
  }
 },
 "nbformat": 4,
 "nbformat_minor": 2
}
